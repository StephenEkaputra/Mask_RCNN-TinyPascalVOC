{
 "cells": [
  {
   "cell_type": "code",
   "execution_count": 1,
   "metadata": {},
   "outputs": [],
   "source": [
    "import json\n",
    "import os\n",
    "from pycocotools.coco import COCO\n",
    "from pycocotools.cocoeval import COCOeval\n",
    "import skimage.draw"
   ]
  },
  {
   "cell_type": "code",
   "execution_count": 81,
   "metadata": {},
   "outputs": [
    {
     "name": "stdout",
     "output_type": "stream",
     "text": [
      "loading annotations into memory...\n",
      "Done (t=0.26s)\n",
      "creating index...\n",
      "index created!\n"
     ]
    },
    {
     "data": {
      "text/plain": [
       "\"\\nwith open('train.json', 'w') as json_file:\\n    json.dump(dict, json_file)\\n\""
      ]
     },
     "execution_count": 81,
     "metadata": {},
     "output_type": "execute_result"
    }
   ],
   "source": [
    "#TRAIN DATA\n",
    "images = []\n",
    "annotation = []\n",
    "categories = []\n",
    " \n",
    "coco = COCO(\"pascal_train.json\")\n",
    "\n",
    "\n",
    "for i in coco.imgs:\n",
    "    imgIds = i\n",
    "    annids = coco.getAnnIds(imgIds=imgIds)\n",
    "    anns = coco.loadAnns(annids)\n",
    "    img_info = coco.loadImgs(ids=imgIds)\n",
    "    file_name = img_info[0]['file_name']\n",
    "    height = img_info[0]['height']\n",
    "    width = img_info[0]['width']\n",
    "    images.append({\n",
    "        \"file_name\": str(file_name), \n",
    "        \"height\": int(height),\n",
    "        \"width\": int(width),\n",
    "        \"id\": int(imgIds)\n",
    "    })\n",
    "    for j in range(len(anns)):\n",
    "        ann_id = anns[j]['id']\n",
    "        area = anns[j]['area']\n",
    "        poly = anns[j]['segmentation']\n",
    "        category = anns[j]['category_id']\n",
    "        bbox = anns[j]['bbox']\n",
    "        iscrowd = anns[j]['iscrowd']\n",
    "        name = coco.cats[category]['name']\n",
    "        supercategory = coco.cats[category]['supercategory']\n",
    "        annotation.append({\n",
    "            \"segmentation\": poly,\n",
    "            \"area\": float(area),\n",
    "            \"iscrowd\": iscrowd,\n",
    "            \"image_id\": int(imgIds),\n",
    "            \"bbox\": bbox, \n",
    "            \"category_id\": int(category),\n",
    "            \"id\": int(ann_id)\n",
    "        })\n",
    "        \n",
    "for k in coco.cats:\n",
    "    supercategory = coco.cats[k]['supercategory']\n",
    "    category = coco.cats[k]['id']\n",
    "    name = coco.cats[k]['name']\n",
    "    categories.append({\n",
    "        \"supercategory\": str(supercategory),\n",
    "        \"id\": int(category), \n",
    "        \"name\": str(name), \n",
    "    })\n",
    "        \n",
    "dict = {'images':images, 'annotations':annotation, 'categories':categories}\n",
    "\n",
    "with open('instances_train2017.json', 'w') as json_file:\n",
    "    json.dump(dict, json_file)"
   ]
  },
  {
   "cell_type": "code",
   "execution_count": 2,
   "metadata": {},
   "outputs": [
    {
     "data": {
      "text/plain": [
       "'\\ncoco = COCO(\"test.json\")\\n\\nimages = []\\nannotation = []\\ncategories = []\\n\\nfor i in coco.imgs:\\n    imgIds = i\\n    img_info = coco.loadImgs(ids=imgIds)\\n    file_name = img_info[0][\\'file_name\\']\\n    height = img_info[0][\\'height\\']\\n    width = img_info[0][\\'width\\']\\n    images.append({\\n        \"file_name\": str(file_name),\\n        \"height\": int(height),\\n        \"width\": int(width),\\n        \"id\": int(imgIds)\\n    })\\n    annotation.append({\\n        \"image_id\": int(imgIds),\\n        \"id\": int(imgIds)\\n    })\\n    \\nfor j in coco.cats:\\n    supercategory = coco.cats[j][\\'supercategory\\']\\n    category = coco.cats[j][\\'id\\']\\n    name = coco.cats[j][\\'name\\']\\n    \\n    categories.append({\\n        \"supercategory\": str(supercategory),\\n        \"id\": int(category), \\n        \"name\": str(name), \\n    })    \\n\\n\\n\\ndict2 = {\\'images\\':images, \\'annotations\\':annotation, \\'categories\\':categories}\\n\\n\\nwith open(\\'test.json\\', \\'w\\') as json_file:\\n    json.dump(dict2, json_file)\\n'"
      ]
     },
     "execution_count": 2,
     "metadata": {},
     "output_type": "execute_result"
    }
   ],
   "source": [
    "#TEST JSON\n",
    "\"\"\"\n",
    "coco = COCO(\"test.json\")\n",
    "\n",
    "images = []\n",
    "annotation = []\n",
    "categories = []\n",
    "\n",
    "for i in coco.imgs:\n",
    "    imgIds = i\n",
    "    img_info = coco.loadImgs(ids=imgIds)\n",
    "    file_name = img_info[0]['file_name']\n",
    "    height = img_info[0]['height']\n",
    "    width = img_info[0]['width']\n",
    "    images.append({\n",
    "        \"file_name\": str(file_name),\n",
    "        \"height\": int(height),\n",
    "        \"width\": int(width),\n",
    "        \"id\": int(imgIds)\n",
    "    })\n",
    "    annotation.append({\n",
    "        \"image_id\": int(imgIds),\n",
    "        \"id\": int(imgIds)\n",
    "    })\n",
    "    \n",
    "for j in coco.cats:\n",
    "    supercategory = coco.cats[j]['supercategory']\n",
    "    category = coco.cats[j]['id']\n",
    "    name = coco.cats[j]['name']\n",
    "    \n",
    "    categories.append({\n",
    "        \"supercategory\": str(supercategory),\n",
    "        \"id\": int(category), \n",
    "        \"name\": str(name), \n",
    "    })    \n",
    "\n",
    "\n",
    "\n",
    "dict2 = {'images':images, 'annotations':annotation, 'categories':categories}\n",
    "\n",
    "\n",
    "with open('test.json', 'w') as json_file:\n",
    "    json.dump(dict2, json_file)\n",
    "\"\"\""
   ]
  },
  {
   "cell_type": "code",
   "execution_count": 30,
   "metadata": {},
   "outputs": [
    {
     "name": "stdout",
     "output_type": "stream",
     "text": [
      "loading annotations into memory...\n",
      "Done (t=0.23s)\n",
      "creating index...\n",
      "index created!\n"
     ]
    }
   ],
   "source": [
    "#VALIDATION DATA ONLY 10\n",
    "images = []\n",
    "annotation = []\n",
    "categories = []\n",
    " \n",
    "coco = COCO(\"pascal_train.json\")\n",
    "\n",
    "\n",
    "for i in range(1,11):\n",
    "    imgIds = i\n",
    "    annids = coco.getAnnIds(imgIds=imgIds)\n",
    "    anns = coco.loadAnns(annids)\n",
    "    img_info = coco.loadImgs(ids=imgIds)\n",
    "    file_name = img_info[0]['file_name']\n",
    "    height = img_info[0]['height']\n",
    "    width = img_info[0]['width']\n",
    "    images.append({\n",
    "        \"file_name\": str(file_name), \n",
    "        \"height\": int(height),\n",
    "        \"width\": int(width),\n",
    "        \"id\": int(imgIds)\n",
    "    })\n",
    "    for j in range(len(anns)):\n",
    "        ann_id = anns[j]['id']\n",
    "        area = anns[j]['area']\n",
    "        poly = anns[j]['segmentation']\n",
    "        category = anns[j]['category_id']\n",
    "        bbox = anns[j]['bbox']\n",
    "        iscrowd = anns[j]['iscrowd']\n",
    "        name = coco.cats[category]['name']\n",
    "        supercategory = coco.cats[category]['supercategory']\n",
    "        annotation.append({\n",
    "            \"segmentation\": poly,\n",
    "            \"area\": float(area),\n",
    "            \"iscrowd\": iscrowd,\n",
    "            \"image_id\": int(imgIds),\n",
    "            \"bbox\": bbox, \n",
    "            \"category_id\": int(category),\n",
    "            \"id\": int(ann_id)\n",
    "        })\n",
    "        \n",
    "for k in coco.cats:\n",
    "    supercategory = coco.cats[k]['supercategory']\n",
    "    category = coco.cats[k]['id']\n",
    "    name = coco.cats[k]['name']\n",
    "    categories.append({\n",
    "        \"supercategory\": str(supercategory),\n",
    "        \"id\": int(category), \n",
    "        \"name\": str(name), \n",
    "    })\n",
    "        \n",
    "dict = {'images':images, 'annotations':annotation, 'categories':categories}\n",
    "\n",
    "\n",
    "with open('instances_val2017.json', 'w') as json_file:\n",
    "    json.dump(dict, json_file)"
   ]
  },
  {
   "cell_type": "code",
   "execution_count": null,
   "metadata": {},
   "outputs": [],
   "source": []
  }
 ],
 "metadata": {
  "kernelspec": {
   "display_name": "Python 3",
   "language": "python",
   "name": "python3"
  },
  "language_info": {
   "codemirror_mode": {
    "name": "ipython",
    "version": 3
   },
   "file_extension": ".py",
   "mimetype": "text/x-python",
   "name": "python",
   "nbconvert_exporter": "python",
   "pygments_lexer": "ipython3",
   "version": "3.7.4"
  }
 },
 "nbformat": 4,
 "nbformat_minor": 2
}
